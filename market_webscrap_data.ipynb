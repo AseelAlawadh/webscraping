{
 "cells": [
  {
   "cell_type": "markdown",
   "metadata": {},
   "source": [
    "# Problem Statement"
   ]
  },
  {
   "cell_type": "markdown",
   "metadata": {},
   "source": [
    "## Which the best store to by an item from KSA 🇸🇦"
   ]
  },
  {
   "cell_type": "markdown",
   "metadata": {},
   "source": [
    "### there is to way to get the data form website , \n",
    "- use API \n",
    "- use Webscraping way (if there's not API for the website), which we use it here"
   ]
  },
  {
   "cell_type": "code",
   "execution_count": 80,
   "metadata": {},
   "outputs": [],
   "source": [
    "# install python library for Persian language localization.\n",
    "# !pip install persian "
   ]
  },
  {
   "cell_type": "code",
   "execution_count": 6,
   "metadata": {},
   "outputs": [],
   "source": [
    "# imporitng all library we need it \n",
    "import re\n",
    "from scrapy.selector import Selector\n",
    "import requests\n",
    "import pandas as pd\n",
    "from bs4 import BeautifulSoup\n",
    "from time import sleep\n",
    "from selenium import webdriver\n",
    "# import persian\n",
    "import matplotlib.pyplot as plt\n",
    "import seaborn as sns\n",
    "from scipy.stats import norm"
   ]
  },
  {
   "cell_type": "markdown",
   "metadata": {},
   "source": [
    "# Danube Market"
   ]
  },
  {
   "cell_type": "code",
   "execution_count": 87,
   "metadata": {},
   "outputs": [],
   "source": [
    "## Step 1 : Download Html page \n",
    "#open browser\n",
    "driver = webdriver.Chrome(executable_path='./chromedriver/chromedriver')\n",
    "\n",
    "#requesr url\n",
    "url = 'https://danube.sa/departments/grocery?hierarchicalMenu%5Btaxons_ar.lvl0%5D%5B0%5D=%D9%85%D9%86%20%D8%A7%D9%84%D8%A3%D9%82%D8%B3%D8%A7%D9%85&hierarchicalMenu%5Btaxons_ar.lvl0%5D%5B1%5D=%D8%A7%D9%84%D8%A7%D8%AD%D8%AA%D9%8A%D8%A7%D8%AC%D8%A7%D8%AA%20%D8%A7%D9%84%D9%8A%D9%88%D9%85%D9%8A%D8%A9'\n",
    "product_name_list = []\n",
    "price_lst = []\n",
    "converter_price = [x for x in range(0,10)]\n",
    "\n",
    "driver.get(url)\n",
    "\n",
    "for page in range(1,50):\n",
    "    driver.get(url+'&page={}'.format(page))\n",
    "    sleep_time = 4\n",
    "    sleep(2)\n",
    "    driver.execute_script('window.scrollTo(0, document.body.scrollHeight);')\n",
    "   \n",
    "    item_lst = None\n",
    "    while item_lst == None:\n",
    "        sleep(sleep_time)\n",
    "        HTML = driver.page_source\n",
    "        soup = BeautifulSoup(HTML,\"html.parser\")\n",
    "        HTML = soup.prettify(\"utf-8\")\n",
    "        item_lst = soup.findAll('div', attrs ={'class': 'product-box'})\n",
    "        for section in item_lst: \n",
    "            product_name_list.append(section.find('div', attrs={'class': 'product-box__name'}).text.strip()) \n",
    "            price = section.find('div', attrs={'class':'product-price__current-price'}).text  \n",
    "            # convert the price from arbics number to english numbers and to float\n",
    "            price_lst.append(float(re.search(r'[\\d\\.]+',price).group()))\n",
    "\n",
    "driver.close()"
   ]
  },
  {
   "cell_type": "code",
   "execution_count": 88,
   "metadata": {},
   "outputs": [],
   "source": [
    "# section.find('div', attrs={'class':'product-price__current-price'}).text"
   ]
  },
  {
   "cell_type": "markdown",
   "metadata": {},
   "source": [
    "### Save the out put in Data frame"
   ]
  },
  {
   "cell_type": "code",
   "execution_count": 125,
   "metadata": {},
   "outputs": [],
   "source": [
    "#save the out put in Data frame\n",
    "danubeـdf = pd.DataFrame({'product_name_list': product_name_list, 'price_lst': price_lst})"
   ]
  },
  {
   "cell_type": "markdown",
   "metadata": {},
   "source": [
    "### investigate data"
   ]
  },
  {
   "cell_type": "code",
   "execution_count": 113,
   "metadata": {},
   "outputs": [
    {
     "data": {
      "text/html": [
       "<div>\n",
       "<style scoped>\n",
       "    .dataframe tbody tr th:only-of-type {\n",
       "        vertical-align: middle;\n",
       "    }\n",
       "\n",
       "    .dataframe tbody tr th {\n",
       "        vertical-align: top;\n",
       "    }\n",
       "\n",
       "    .dataframe thead th {\n",
       "        text-align: right;\n",
       "    }\n",
       "</style>\n",
       "<table border=\"1\" class=\"dataframe\">\n",
       "  <thead>\n",
       "    <tr style=\"text-align: right;\">\n",
       "      <th></th>\n",
       "      <th>product_name_list</th>\n",
       "      <th>price_lst</th>\n",
       "    </tr>\n",
       "  </thead>\n",
       "  <tbody>\n",
       "    <tr>\n",
       "      <th>0</th>\n",
       "      <td>نوفا - مياه معبأة ٣٣٠ مل ٤٠ عبوة</td>\n",
       "      <td>18.0</td>\n",
       "    </tr>\n",
       "    <tr>\n",
       "      <th>1</th>\n",
       "      <td>شركة مطاحن الدقيق والمخابز الكويتية طحين فاخر ...</td>\n",
       "      <td>3.0</td>\n",
       "    </tr>\n",
       "    <tr>\n",
       "      <th>2</th>\n",
       "      <td>التنمية - صدور دجاج بدون عظم طازجة ٤٥٠ غرام</td>\n",
       "      <td>14.0</td>\n",
       "    </tr>\n",
       "    <tr>\n",
       "      <th>3</th>\n",
       "      <td>بيرين - مياة شرب ٤٠*٣٣٠ مل</td>\n",
       "      <td>18.0</td>\n",
       "    </tr>\n",
       "    <tr>\n",
       "      <th>4</th>\n",
       "      <td>اليوم - فيليه صدور الدجاج ١٠٠٠ غرام</td>\n",
       "      <td>39.0</td>\n",
       "    </tr>\n",
       "  </tbody>\n",
       "</table>\n",
       "</div>"
      ],
      "text/plain": [
       "                                   product_name_list  price_lst\n",
       "0                   نوفا - مياه معبأة ٣٣٠ مل ٤٠ عبوة       18.0\n",
       "1  شركة مطاحن الدقيق والمخابز الكويتية طحين فاخر ...        3.0\n",
       "2        التنمية - صدور دجاج بدون عظم طازجة ٤٥٠ غرام       14.0\n",
       "3                         بيرين - مياة شرب ٤٠*٣٣٠ مل       18.0\n",
       "4                اليوم - فيليه صدور الدجاج ١٠٠٠ غرام       39.0"
      ]
     },
     "execution_count": 113,
     "metadata": {},
     "output_type": "execute_result"
    }
   ],
   "source": [
    "danubeـdf.head()"
   ]
  },
  {
   "cell_type": "code",
   "execution_count": 91,
   "metadata": {},
   "outputs": [
    {
     "name": "stdout",
     "output_type": "stream",
     "text": [
      "<class 'pandas.core.frame.DataFrame'>\n",
      "RangeIndex: 980 entries, 0 to 979\n",
      "Data columns (total 2 columns):\n",
      "product_name_list    980 non-null object\n",
      "price_lst            980 non-null float64\n",
      "dtypes: float64(1), object(1)\n",
      "memory usage: 15.4+ KB\n"
     ]
    }
   ],
   "source": [
    "danubeـdf.info()"
   ]
  },
  {
   "cell_type": "code",
   "execution_count": 96,
   "metadata": {},
   "outputs": [
    {
     "data": {
      "text/html": [
       "<div>\n",
       "<style scoped>\n",
       "    .dataframe tbody tr th:only-of-type {\n",
       "        vertical-align: middle;\n",
       "    }\n",
       "\n",
       "    .dataframe tbody tr th {\n",
       "        vertical-align: top;\n",
       "    }\n",
       "\n",
       "    .dataframe thead th {\n",
       "        text-align: right;\n",
       "    }\n",
       "</style>\n",
       "<table border=\"1\" class=\"dataframe\">\n",
       "  <thead>\n",
       "    <tr style=\"text-align: right;\">\n",
       "      <th></th>\n",
       "      <th>price_lst</th>\n",
       "    </tr>\n",
       "  </thead>\n",
       "  <tbody>\n",
       "    <tr>\n",
       "      <th>count</th>\n",
       "      <td>980.000000</td>\n",
       "    </tr>\n",
       "    <tr>\n",
       "      <th>mean</th>\n",
       "      <td>12.477551</td>\n",
       "    </tr>\n",
       "    <tr>\n",
       "      <th>std</th>\n",
       "      <td>12.476352</td>\n",
       "    </tr>\n",
       "    <tr>\n",
       "      <th>min</th>\n",
       "      <td>0.000000</td>\n",
       "    </tr>\n",
       "    <tr>\n",
       "      <th>25%</th>\n",
       "      <td>4.000000</td>\n",
       "    </tr>\n",
       "    <tr>\n",
       "      <th>50%</th>\n",
       "      <td>9.000000</td>\n",
       "    </tr>\n",
       "    <tr>\n",
       "      <th>75%</th>\n",
       "      <td>16.000000</td>\n",
       "    </tr>\n",
       "    <tr>\n",
       "      <th>max</th>\n",
       "      <td>132.000000</td>\n",
       "    </tr>\n",
       "  </tbody>\n",
       "</table>\n",
       "</div>"
      ],
      "text/plain": [
       "        price_lst\n",
       "count  980.000000\n",
       "mean    12.477551\n",
       "std     12.476352\n",
       "min      0.000000\n",
       "25%      4.000000\n",
       "50%      9.000000\n",
       "75%     16.000000\n",
       "max    132.000000"
      ]
     },
     "execution_count": 96,
     "metadata": {},
     "output_type": "execute_result"
    }
   ],
   "source": [
    "danubeـdf.describe()"
   ]
  },
  {
   "cell_type": "code",
   "execution_count": 109,
   "metadata": {},
   "outputs": [
    {
     "data": {
      "image/png": "[encoded data removed]",
      "text/plain": [
       "<Figure size 432x288 with 1 Axes>"
      ]
     },
     "metadata": {
      "needs_background": "light"
     },
     "output_type": "display_data"
    }
   ],
   "source": [
    "sns.distplot(danubeـdf.price_lst, bins= 50, fit=norm);"
   ]
  },
  {
   "cell_type": "code",
   "execution_count": 107,
   "metadata": {},
   "outputs": [],
   "source": [
    "# avg_price = danubeـdf[danubeـdf.price_lst < 60]"
   ]
  },
  {
   "cell_type": "code",
   "execution_count": 114,
   "metadata": {},
   "outputs": [],
   "source": [
    "# sns.distplot(avg_price, bins= 75, fit=norm);"
   ]
  },
  {
   "cell_type": "code",
   "execution_count": null,
   "metadata": {},
   "outputs": [],
   "source": []
  },
  {
   "cell_type": "markdown",
   "metadata": {},
   "source": [
    "### Save data frame as a csv file"
   ]
  },
  {
   "cell_type": "code",
   "execution_count": 84,
   "metadata": {},
   "outputs": [],
   "source": [
    "danubeـdf.to_csv('Danube.csv', encoding='utf-8-sig')"
   ]
  },
  {
   "cell_type": "markdown",
   "metadata": {},
   "source": [
    "# Carrefour Market "
   ]
  },
  {
   "cell_type": "code",
   "execution_count": 7,
   "metadata": {},
   "outputs": [],
   "source": [
    "driver = webdriver.Chrome(executable_path='./chromedriver/chromedriver')\n",
    "# driver.implicitly_wait(30)\n",
    "# driver.maximize_window()\n",
    "\n",
    "#requesr url\n",
    "url ='https://www.carrefourksa.com/mafsau/ar/-/c/FKSA1000000'\n",
    "product_name_list_carrefour = []\n",
    "price_lst_carrefour = [] \n",
    "driver.get(url)\n",
    "\n",
    "for page in range(1,48):\n",
    "    driver.get(url+'?&qsort=relevance&pg={}'.format(page))\n",
    "    sleep_time = 4\n",
    "    sleep(2)\n",
    "    driver.execute_script('window.scrollTo(0, document.body.scrollHeight);')\n",
    "   \n",
    "    item_lst_carrefour = None\n",
    "    while item_lst_carrefour == None:\n",
    "        sleep(sleep_time)\n",
    "        HTML = driver.page_source\n",
    "        soup = BeautifulSoup(HTML,\"html.parser\")\n",
    "        HTML = soup.prettify(\"utf-8\")\n",
    "        item_lst_carrefour = soup.findAll('div', attrs ={'class': 'comp-productcard'})\n",
    "        for section in item_lst_carrefour: \n",
    "            product_name_list_carrefour.append(section.find('p', attrs={'class': 'comp-productcard__name'}).text.strip())\n",
    "#             price = section.find('p', attrs={'class':'comp-productcard__price'}).text  \n",
    "#             price_lst_carrefour.append(float(re.search(r'[\\d\\.]+',price).group()))\n",
    "            price_lst_carrefour.append(section.find('p', attrs={'class':'comp-productcard__price'}).text.strip())  \n",
    "#             try:\n",
    "#                 price_lst.append(section.select('*[@id=\"main\"]/div[2]/div[1]/div/div[2]/section/div[3]/div/div/div[1]/div/p[1]/del').text.strip())\n",
    "#             except:\n",
    "#                  price_lst.append(section.select('*[@id=\"main\"]/div[2]/div[1]/div/div[2]/section/div[4]/div/div/div[1]/div/p[1]/strong').txt.strip())   \n",
    "driver.close()"
   ]
  },
  {
   "cell_type": "code",
   "execution_count": 8,
   "metadata": {},
   "outputs": [],
   "source": [
    "# section.find_element_by_xpath('//*[@id=\"main\"]/div[2]/div[1]/div/div[2]/section/div[3]/div/div/div[1]/div/p[1]/del')\n",
    "# section.select('//*[@id=\"main\"]/div[2]/div[1]/div/div[2]/section/div[3]/div/div/div[1]/div/p[1]/del').text.strip()"
   ]
  },
  {
   "cell_type": "markdown",
   "metadata": {},
   "source": [
    "### Save the out put in Data frame"
   ]
  },
  {
   "cell_type": "code",
   "execution_count": 5,
   "metadata": {},
   "outputs": [
    {
     "ename": "NameError",
     "evalue": "name 'product_name_list_carrefour' is not defined",
     "output_type": "error",
     "traceback": [
      "\u001b[0;31m---------------------------------------------------------------------------\u001b[0m",
      "\u001b[0;31mNameError\u001b[0m                                 Traceback (most recent call last)",
      "\u001b[0;32m<ipython-input-5-463c0d862783>\u001b[0m in \u001b[0;36m<module>\u001b[0;34m\u001b[0m\n\u001b[0;32m----> 1\u001b[0;31m \u001b[0mdf_carrefour\u001b[0m\u001b[0;34m=\u001b[0m \u001b[0mpd\u001b[0m\u001b[0;34m.\u001b[0m\u001b[0mDataFrame\u001b[0m\u001b[0;34m(\u001b[0m\u001b[0;34m{\u001b[0m\u001b[0;34m'product_name_list'\u001b[0m\u001b[0;34m:\u001b[0m \u001b[0mproduct_name_list_carrefour\u001b[0m\u001b[0;34m,\u001b[0m \u001b[0;34m'price_lst'\u001b[0m\u001b[0;34m:\u001b[0m \u001b[0mprice_lst_carrefour\u001b[0m\u001b[0;34m}\u001b[0m\u001b[0;34m)\u001b[0m\u001b[0;34m\u001b[0m\u001b[0;34m\u001b[0m\u001b[0m\n\u001b[0m\u001b[1;32m      2\u001b[0m \u001b[0;31m# df_carrefour.to_csv('Carrefour.csv', encoding='utf-8-sig')\u001b[0m\u001b[0;34m\u001b[0m\u001b[0;34m\u001b[0m\u001b[0;34m\u001b[0m\u001b[0m\n",
      "\u001b[0;31mNameError\u001b[0m: name 'product_name_list_carrefour' is not defined"
     ]
    }
   ],
   "source": [
    "carrefour_df = pd.DataFrame({'product_name_list': product_name_list_carrefour, 'price_lst': price_lst_carrefour})\n",
    "# df_carrefour.to_csv('Carrefour.csv', encoding='utf-8-sig')"
   ]
  },
  {
   "cell_type": "markdown",
   "metadata": {},
   "source": [
    "### investigate data"
   ]
  },
  {
   "cell_type": "code",
   "execution_count": 147,
   "metadata": {},
   "outputs": [
    {
     "data": {
      "text/html": [
       "<div>\n",
       "<style scoped>\n",
       "    .dataframe tbody tr th:only-of-type {\n",
       "        vertical-align: middle;\n",
       "    }\n",
       "\n",
       "    .dataframe tbody tr th {\n",
       "        vertical-align: top;\n",
       "    }\n",
       "\n",
       "    .dataframe thead th {\n",
       "        text-align: right;\n",
       "    }\n",
       "</style>\n",
       "<table border=\"1\" class=\"dataframe\">\n",
       "  <thead>\n",
       "    <tr style=\"text-align: right;\">\n",
       "      <th></th>\n",
       "      <th>product_name_list</th>\n",
       "      <th>price_lst</th>\n",
       "    </tr>\n",
       "  </thead>\n",
       "  <tbody>\n",
       "    <tr>\n",
       "      <th>5560</th>\n",
       "      <td>تريتو دونات كيك بالكريمة الكرمل 50 جرام ...</td>\n",
       "      <td>12.95</td>\n",
       "    </tr>\n",
       "    <tr>\n",
       "      <th>5561</th>\n",
       "      <td>تريتو مارمو كيك بالشوكولاتة 40 جرام 12 ح...</td>\n",
       "      <td>12.95</td>\n",
       "    </tr>\n",
       "    <tr>\n",
       "      <th>5562</th>\n",
       "      <td>الصافي زبادي يوناني بالفراولة 160 جرام</td>\n",
       "      <td>4.00</td>\n",
       "    </tr>\n",
       "    <tr>\n",
       "      <th>5563</th>\n",
       "      <td>كيلوجز اول بران رقائق الافطار 375 جم</td>\n",
       "      <td>21.95</td>\n",
       "    </tr>\n",
       "    <tr>\n",
       "      <th>5564</th>\n",
       "      <td>ايفيان مياه معدنية 1,25 لتر - 12</td>\n",
       "      <td>148.00</td>\n",
       "    </tr>\n",
       "  </tbody>\n",
       "</table>\n",
       "</div>"
      ],
      "text/plain": [
       "                                product_name_list  price_lst\n",
       "5560  تريتو دونات كيك بالكريمة الكرمل 50 جرام ...      12.95\n",
       "5561  تريتو مارمو كيك بالشوكولاتة 40 جرام 12 ح...      12.95\n",
       "5562       الصافي زبادي يوناني بالفراولة 160 جرام       4.00\n",
       "5563         كيلوجز اول بران رقائق الافطار 375 جم      21.95\n",
       "5564             ايفيان مياه معدنية 1,25 لتر - 12     148.00"
      ]
     },
     "execution_count": 147,
     "metadata": {},
     "output_type": "execute_result"
    }
   ],
   "source": [
    "carrefour_df.tail()"
   ]
  },
  {
   "cell_type": "code",
   "execution_count": 135,
   "metadata": {},
   "outputs": [
    {
     "name": "stdout",
     "output_type": "stream",
     "text": [
      "<class 'pandas.core.frame.DataFrame'>\n",
      "RangeIndex: 5565 entries, 0 to 5564\n",
      "Data columns (total 2 columns):\n",
      "product_name_list    5565 non-null object\n",
      "price_lst            5565 non-null object\n",
      "dtypes: object(2)\n",
      "memory usage: 87.0+ KB\n"
     ]
    }
   ],
   "source": [
    "carrefour_df.info()"
   ]
  },
  {
   "cell_type": "code",
   "execution_count": null,
   "metadata": {},
   "outputs": [],
   "source": []
  },
  {
   "cell_type": "code",
   "execution_count": 137,
   "metadata": {},
   "outputs": [],
   "source": [
    "# to get just the actuall price and change the type to float \n",
    "carrefour_df['price_lst'] = carrefour_df.price_lst.apply(lambda x:re.findall(r'\\d+\\.\\d+', x)[1] if len(re.findall(r'\\d+\\.\\d+', x)) > 1 else re.findall(r'\\d+\\.\\d+', x)[0]).astype(float)"
   ]
  },
  {
   "cell_type": "code",
   "execution_count": 138,
   "metadata": {},
   "outputs": [
    {
     "data": {
      "text/html": [
       "<div>\n",
       "<style scoped>\n",
       "    .dataframe tbody tr th:only-of-type {\n",
       "        vertical-align: middle;\n",
       "    }\n",
       "\n",
       "    .dataframe tbody tr th {\n",
       "        vertical-align: top;\n",
       "    }\n",
       "\n",
       "    .dataframe thead th {\n",
       "        text-align: right;\n",
       "    }\n",
       "</style>\n",
       "<table border=\"1\" class=\"dataframe\">\n",
       "  <thead>\n",
       "    <tr style=\"text-align: right;\">\n",
       "      <th></th>\n",
       "      <th>product_name_list</th>\n",
       "      <th>price_lst</th>\n",
       "    </tr>\n",
       "  </thead>\n",
       "  <tbody>\n",
       "    <tr>\n",
       "      <th>0</th>\n",
       "      <td>العلالي فانيلا بودرة 20 جرام</td>\n",
       "      <td>2.50</td>\n",
       "    </tr>\n",
       "    <tr>\n",
       "      <th>1</th>\n",
       "      <td>حدائق كاليفورنيا فول مدمس مصفى 450غ</td>\n",
       "      <td>4.95</td>\n",
       "    </tr>\n",
       "    <tr>\n",
       "      <th>2</th>\n",
       "      <td>امريكانا بتر كوكيز ازرق 44  جرام</td>\n",
       "      <td>1.25</td>\n",
       "    </tr>\n",
       "    <tr>\n",
       "      <th>3</th>\n",
       "      <td>اندوفود صلصة حارة سومطرا 140 مل</td>\n",
       "      <td>3.50</td>\n",
       "    </tr>\n",
       "    <tr>\n",
       "      <th>4</th>\n",
       "      <td>مازولا سمن نباتي للكيك 1 كيلو</td>\n",
       "      <td>16.75</td>\n",
       "    </tr>\n",
       "  </tbody>\n",
       "</table>\n",
       "</div>"
      ],
      "text/plain": [
       "                     product_name_list  price_lst\n",
       "0         العلالي فانيلا بودرة 20 جرام       2.50\n",
       "1  حدائق كاليفورنيا فول مدمس مصفى 450غ       4.95\n",
       "2     امريكانا بتر كوكيز ازرق 44  جرام       1.25\n",
       "3      اندوفود صلصة حارة سومطرا 140 مل       3.50\n",
       "4        مازولا سمن نباتي للكيك 1 كيلو      16.75"
      ]
     },
     "execution_count": 138,
     "metadata": {},
     "output_type": "execute_result"
    }
   ],
   "source": [
    "carrefour_df.head()"
   ]
  },
  {
   "cell_type": "code",
   "execution_count": 139,
   "metadata": {},
   "outputs": [
    {
     "name": "stdout",
     "output_type": "stream",
     "text": [
      "<class 'pandas.core.frame.DataFrame'>\n",
      "RangeIndex: 5565 entries, 0 to 5564\n",
      "Data columns (total 2 columns):\n",
      "product_name_list    5565 non-null object\n",
      "price_lst            5565 non-null float64\n",
      "dtypes: float64(1), object(1)\n",
      "memory usage: 87.0+ KB\n"
     ]
    }
   ],
   "source": [
    "carrefour_df.info()"
   ]
  },
  {
   "cell_type": "code",
   "execution_count": 148,
   "metadata": {},
   "outputs": [
    {
     "data": {
      "text/html": [
       "<div>\n",
       "<style scoped>\n",
       "    .dataframe tbody tr th:only-of-type {\n",
       "        vertical-align: middle;\n",
       "    }\n",
       "\n",
       "    .dataframe tbody tr th {\n",
       "        vertical-align: top;\n",
       "    }\n",
       "\n",
       "    .dataframe thead th {\n",
       "        text-align: right;\n",
       "    }\n",
       "</style>\n",
       "<table border=\"1\" class=\"dataframe\">\n",
       "  <thead>\n",
       "    <tr style=\"text-align: right;\">\n",
       "      <th></th>\n",
       "      <th>price_lst</th>\n",
       "    </tr>\n",
       "  </thead>\n",
       "  <tbody>\n",
       "    <tr>\n",
       "      <th>count</th>\n",
       "      <td>5565.000000</td>\n",
       "    </tr>\n",
       "    <tr>\n",
       "      <th>mean</th>\n",
       "      <td>16.501058</td>\n",
       "    </tr>\n",
       "    <tr>\n",
       "      <th>std</th>\n",
       "      <td>23.455627</td>\n",
       "    </tr>\n",
       "    <tr>\n",
       "      <th>min</th>\n",
       "      <td>0.500000</td>\n",
       "    </tr>\n",
       "    <tr>\n",
       "      <th>25%</th>\n",
       "      <td>5.950000</td>\n",
       "    </tr>\n",
       "    <tr>\n",
       "      <th>50%</th>\n",
       "      <td>11.750000</td>\n",
       "    </tr>\n",
       "    <tr>\n",
       "      <th>75%</th>\n",
       "      <td>19.500000</td>\n",
       "    </tr>\n",
       "    <tr>\n",
       "      <th>max</th>\n",
       "      <td>650.000000</td>\n",
       "    </tr>\n",
       "  </tbody>\n",
       "</table>\n",
       "</div>"
      ],
      "text/plain": [
       "         price_lst\n",
       "count  5565.000000\n",
       "mean     16.501058\n",
       "std      23.455627\n",
       "min       0.500000\n",
       "25%       5.950000\n",
       "50%      11.750000\n",
       "75%      19.500000\n",
       "max     650.000000"
      ]
     },
     "execution_count": 148,
     "metadata": {},
     "output_type": "execute_result"
    }
   ],
   "source": [
    "carrefour_df.describe()"
   ]
  },
  {
   "cell_type": "code",
   "execution_count": 146,
   "metadata": {},
   "outputs": [
    {
     "data": {
      "image/png": "[encoded data removed]",
      "text/plain": [
       "<Figure size 432x288 with 1 Axes>"
      ]
     },
     "metadata": {
      "needs_background": "light"
     },
     "output_type": "display_data"
    }
   ],
   "source": [
    "sns.distplot(carrefour_df.price_lst, bins= 300, fit=norm);"
   ]
  },
  {
   "cell_type": "markdown",
   "metadata": {},
   "source": [
    "### Save data frame as a csv file"
   ]
  },
  {
   "cell_type": "code",
   "execution_count": 9,
   "metadata": {},
   "outputs": [
    {
     "ename": "NameError",
     "evalue": "name 'carrefour_df' is not defined",
     "output_type": "error",
     "traceback": [
      "\u001b[0;31m---------------------------------------------------------------------------\u001b[0m",
      "\u001b[0;31mNameError\u001b[0m                                 Traceback (most recent call last)",
      "\u001b[0;32m<ipython-input-9-73f01bbd1ec5>\u001b[0m in \u001b[0;36m<module>\u001b[0;34m\u001b[0m\n\u001b[0;32m----> 1\u001b[0;31m \u001b[0mcarrefour_df\u001b[0m\u001b[0;34m.\u001b[0m\u001b[0mto_csv\u001b[0m\u001b[0;34m(\u001b[0m\u001b[0;34m'Carrefour.csv'\u001b[0m\u001b[0;34m,\u001b[0m \u001b[0mencoding\u001b[0m\u001b[0;34m=\u001b[0m\u001b[0;34m'utf-8-sig'\u001b[0m\u001b[0;34m)\u001b[0m\u001b[0;34m\u001b[0m\u001b[0;34m\u001b[0m\u001b[0m\n\u001b[0m",
      "\u001b[0;31mNameError\u001b[0m: name 'carrefour_df' is not defined"
     ]
    }
   ],
   "source": [
    "carrefour_df.to_csv('Carrefour.csv', encoding='utf-8-sig')"
   ]
  },
  {
   "cell_type": "code",
   "execution_count": null,
   "metadata": {},
   "outputs": [],
   "source": []
  }
 ],
 "metadata": {
  "kernelspec": {
   "display_name": "Python 3",
   "language": "python",
   "name": "python3"
  },
  "language_info": {
   "codemirror_mode": {
    "name": "ipython",
    "version": 3
   },
   "file_extension": ".py",
   "mimetype": "text/x-python",
   "name": "python",
   "nbconvert_exporter": "python",
   "pygments_lexer": "ipython3",
   "version": "3.6.8"
  }
 },
 "nbformat": 4,
 "nbformat_minor": 2
}
